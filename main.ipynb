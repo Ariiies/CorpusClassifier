{
 "cells": [
  {
   "cell_type": "markdown",
   "metadata": {},
   "source": [
    "### Necesasry importations and resourses"
   ]
  },
  {
   "cell_type": "code",
   "execution_count": 1,
   "metadata": {},
   "outputs": [
    {
     "name": "stderr",
     "output_type": "stream",
     "text": [
      "[nltk_data] Downloading package brown to\n",
      "[nltk_data]     C:\\Users\\luisa\\AppData\\Roaming\\nltk_data...\n",
      "[nltk_data]   Package brown is already up-to-date!\n",
      "[nltk_data] Downloading package stopwords to\n",
      "[nltk_data]     C:\\Users\\luisa\\AppData\\Roaming\\nltk_data...\n",
      "[nltk_data]   Package stopwords is already up-to-date!\n"
     ]
    }
   ],
   "source": [
    "import numpy as np\n",
    "import spacy\n",
    "import pandas as pd\n",
    "import nltk\n",
    "import tensorflow as tf\n",
    "from sklearn import metrics\n",
    "from sklearn.preprocessing import LabelEncoder\n",
    "from sklearn.model_selection import train_test_split\n",
    "from nltk.corpus import brown\n",
    "from nltk.corpus import stopwords\n",
    "from nltk import SnowballStemmer\n",
    "from DocuMetrics import DocuMetrics as DM\n",
    "from sklearn.feature_extraction.text import TfidfVectorizer\n",
    "# Download neccesary resourses\n",
    "nltk.download('brown')\n",
    "nltk.download('stopwords')\n",
    "\n",
    "# Config\n",
    "en_stops = set(stopwords.words('english'))\n",
    "englishstemmer = SnowballStemmer('english')\n",
    "nlp = spacy.load('en_core_web_sm')\n",
    "\n",
    "# Charge documents from Brown corpus\n",
    "lore = brown.fileids(categories='lore')\n",
    "learned = brown.fileids(categories='learned')\n",
    "belles_letters = brown.fileids(categories='belles_lettres')"
   ]
  },
  {
   "cell_type": "markdown",
   "metadata": {},
   "source": [
    "### Create main doc"
   ]
  },
  {
   "cell_type": "code",
   "execution_count": 2,
   "metadata": {},
   "outputs": [],
   "source": [
    "# Create and filter documents\n",
    "main_doc = []\n",
    "for category in [lore, learned, belles_letters]:\n",
    "    for fileid in category:\n",
    "        aux = brown.words(fileids=fileid)\n",
    "        main_doc.append(' '.join(aux))\n",
    "\n",
    "# Processing function\n",
    "def normalize(text):\n",
    "    doc = nlp(text)\n",
    "    return ' '.join([token.lower_ for token in doc if not token.is_punct and not token.is_stop and len(token) > 3 and token.is_alpha])\n",
    "\n",
    "\n",
    "main_doc = [normalize(doc) for doc in main_doc]\n"
   ]
  },
  {
   "cell_type": "markdown",
   "metadata": {},
   "source": [
    "### Text vectorization using TF-IDF from DocuMetrics (a fusion between corpy and tfidf projects)"
   ]
  },
  {
   "cell_type": "code",
   "execution_count": 3,
   "metadata": {},
   "outputs": [],
   "source": [
    "# Text vectorization using TF-IDF\n",
    "dm = DM(main_doc)\n",
    "TF_IDF = dm.TF_IDF\n",
    "vocabulary = dm.get_vocabulary()\n",
    "vocabulary.append(\"categoria\")"
   ]
  },
  {
   "cell_type": "markdown",
   "metadata": {},
   "source": [
    "### create and define tags correctly according to the number of categories"
   ]
  },
  {
   "cell_type": "code",
   "execution_count": 4,
   "metadata": {},
   "outputs": [],
   "source": [
    "# Crate tags\n",
    "labels = np.concatenate([np.zeros(len(lore)), \n",
    "                          np.ones(len(learned)), \n",
    "                          2 * np.ones(len(belles_letters))])\n",
    "\n",
    "TF_IDF2 = np.insert(TF_IDF, TF_IDF.shape[1], labels, axis=1)\n",
    "df = pd.DataFrame(TF_IDF2, columns=vocabulary)"
   ]
  },
  {
   "cell_type": "markdown",
   "metadata": {},
   "source": [
    "### Here the elements are arranged and the data set is divided for testing, can modify test_size"
   ]
  },
  {
   "cell_type": "code",
   "execution_count": 5,
   "metadata": {},
   "outputs": [],
   "source": [
    "# Define X and Y\n",
    "X = df.iloc[:, 1:(len(vocabulary)-1)].values\n",
    "y = df.iloc[:, (len(vocabulary)-1)].values\n",
    "\n",
    "# Codifie tags\n",
    "encoder = LabelEncoder()\n",
    "y_encoded = encoder.fit_transform(y)\n",
    "Y = pd.get_dummies(y_encoded).values\n",
    "\n",
    "# Split the data set\n",
    "X_train, X_test, y_train, y_test = train_test_split(X, Y, test_size=0.2, random_state=0)"
   ]
  },
  {
   "cell_type": "markdown",
   "metadata": {},
   "source": [
    "### Here Define and compile the model, can modify capes and activition "
   ]
  },
  {
   "cell_type": "code",
   "execution_count": 6,
   "metadata": {},
   "outputs": [],
   "source": [
    "# Define and compile the model\n",
    "model = tf.keras.models.Sequential()\n",
    "model.add(tf.keras.layers.Dense(10, input_shape=(X.shape[1],), activation='relu'))\n",
    "model.add(tf.keras.layers.Dropout(0.3))\n",
    "model.add(tf.keras.layers.Dense(6, activation='relu'))\n",
    "model.add(tf.keras.layers.Dropout(0.3))\n",
    "model.add(tf.keras.layers.Dense(3, activation='softmax'))  \n",
    "\n",
    "opt = tf.keras.optimizers.Adam(learning_rate=0.01)\n",
    "model.compile(loss='categorical_crossentropy', optimizer=opt, metrics=['accuracy'])\n"
   ]
  },
  {
   "cell_type": "markdown",
   "metadata": {},
   "source": [
    "### Fit model and predictions"
   ]
  },
  {
   "cell_type": "code",
   "execution_count": 7,
   "metadata": {},
   "outputs": [
    {
     "name": "stdout",
     "output_type": "stream",
     "text": [
      "Epoch 1/50\n",
      "6/6 [==============================] - 1s 54ms/step - loss: 1.0967 - accuracy: 0.3704\n",
      "Epoch 2/50\n",
      "6/6 [==============================] - 0s 31ms/step - loss: 1.0862 - accuracy: 0.3580\n",
      "Epoch 3/50\n",
      "6/6 [==============================] - 0s 38ms/step - loss: 1.0786 - accuracy: 0.4074\n",
      "Epoch 4/50\n",
      "6/6 [==============================] - 0s 39ms/step - loss: 1.0524 - accuracy: 0.4321\n",
      "Epoch 5/50\n",
      "6/6 [==============================] - 0s 38ms/step - loss: 1.0284 - accuracy: 0.4012\n",
      "Epoch 6/50\n",
      "6/6 [==============================] - 0s 40ms/step - loss: 1.0248 - accuracy: 0.4815\n",
      "Epoch 7/50\n",
      "6/6 [==============================] - 0s 38ms/step - loss: 0.9816 - accuracy: 0.6975\n",
      "Epoch 8/50\n",
      "6/6 [==============================] - 0s 41ms/step - loss: 0.9601 - accuracy: 0.6296\n",
      "Epoch 9/50\n",
      "6/6 [==============================] - 0s 37ms/step - loss: 0.9129 - accuracy: 0.6790\n",
      "Epoch 10/50\n",
      "6/6 [==============================] - 0s 39ms/step - loss: 0.8604 - accuracy: 0.6790\n",
      "Epoch 11/50\n",
      "6/6 [==============================] - 0s 39ms/step - loss: 0.7948 - accuracy: 0.7346\n",
      "Epoch 12/50\n",
      "6/6 [==============================] - 0s 32ms/step - loss: 0.7689 - accuracy: 0.7346\n",
      "Epoch 13/50\n",
      "6/6 [==============================] - 0s 40ms/step - loss: 0.7422 - accuracy: 0.7284\n",
      "Epoch 14/50\n",
      "6/6 [==============================] - 0s 39ms/step - loss: 0.6870 - accuracy: 0.7593\n",
      "Epoch 15/50\n",
      "6/6 [==============================] - 0s 38ms/step - loss: 0.6647 - accuracy: 0.7654\n",
      "Epoch 16/50\n",
      "6/6 [==============================] - 0s 25ms/step - loss: 0.6417 - accuracy: 0.7531\n",
      "Epoch 17/50\n",
      "6/6 [==============================] - 0s 32ms/step - loss: 0.5993 - accuracy: 0.7716\n",
      "Epoch 18/50\n",
      "6/6 [==============================] - 0s 37ms/step - loss: 0.5857 - accuracy: 0.7716\n",
      "Epoch 19/50\n",
      "6/6 [==============================] - 0s 40ms/step - loss: 0.5897 - accuracy: 0.7593\n",
      "Epoch 20/50\n",
      "6/6 [==============================] - 0s 38ms/step - loss: 0.5783 - accuracy: 0.7593\n",
      "Epoch 21/50\n",
      "6/6 [==============================] - 0s 39ms/step - loss: 0.5471 - accuracy: 0.7716\n",
      "Epoch 22/50\n",
      "6/6 [==============================] - 0s 39ms/step - loss: 0.5561 - accuracy: 0.7654\n",
      "Epoch 23/50\n",
      "6/6 [==============================] - 0s 37ms/step - loss: 0.5404 - accuracy: 0.7654\n",
      "Epoch 24/50\n",
      "6/6 [==============================] - 0s 40ms/step - loss: 0.5365 - accuracy: 0.7716\n",
      "Epoch 25/50\n",
      "6/6 [==============================] - 0s 40ms/step - loss: 0.5290 - accuracy: 0.7654\n",
      "Epoch 26/50\n",
      "6/6 [==============================] - 0s 36ms/step - loss: 0.5427 - accuracy: 0.7593\n",
      "Epoch 27/50\n",
      "6/6 [==============================] - 0s 37ms/step - loss: 0.5278 - accuracy: 0.7654\n",
      "Epoch 28/50\n",
      "6/6 [==============================] - 0s 42ms/step - loss: 0.5227 - accuracy: 0.7654\n",
      "Epoch 29/50\n",
      "6/6 [==============================] - 0s 38ms/step - loss: 0.5228 - accuracy: 0.7654\n",
      "Epoch 30/50\n",
      "6/6 [==============================] - 0s 35ms/step - loss: 0.5397 - accuracy: 0.7531\n",
      "Epoch 31/50\n",
      "6/6 [==============================] - 0s 19ms/step - loss: 0.5142 - accuracy: 0.7654\n",
      "Epoch 32/50\n",
      "6/6 [==============================] - 0s 25ms/step - loss: 0.4930 - accuracy: 0.7716\n",
      "Epoch 33/50\n",
      "6/6 [==============================] - 0s 39ms/step - loss: 0.5090 - accuracy: 0.7654\n",
      "Epoch 34/50\n",
      "6/6 [==============================] - 0s 41ms/step - loss: 0.5039 - accuracy: 0.7654\n",
      "Epoch 35/50\n",
      "6/6 [==============================] - 0s 38ms/step - loss: 0.5115 - accuracy: 0.7593\n",
      "Epoch 36/50\n",
      "6/6 [==============================] - 0s 25ms/step - loss: 0.4925 - accuracy: 0.7654\n",
      "Epoch 37/50\n",
      "6/6 [==============================] - 0s 39ms/step - loss: 0.4838 - accuracy: 0.7716\n",
      "Epoch 38/50\n",
      "6/6 [==============================] - 0s 41ms/step - loss: 0.4941 - accuracy: 0.7654\n",
      "Epoch 39/50\n",
      "6/6 [==============================] - 0s 38ms/step - loss: 0.4777 - accuracy: 0.7654\n",
      "Epoch 40/50\n",
      "6/6 [==============================] - 0s 37ms/step - loss: 0.4682 - accuracy: 0.7716\n",
      "Epoch 41/50\n",
      "6/6 [==============================] - 0s 40ms/step - loss: 0.4684 - accuracy: 0.7716\n",
      "Epoch 42/50\n",
      "6/6 [==============================] - 0s 38ms/step - loss: 0.4624 - accuracy: 0.7716\n",
      "Epoch 43/50\n",
      "6/6 [==============================] - 0s 38ms/step - loss: 0.4547 - accuracy: 0.7716\n",
      "Epoch 44/50\n",
      "6/6 [==============================] - 0s 40ms/step - loss: 0.4549 - accuracy: 0.7716\n",
      "Epoch 45/50\n",
      "6/6 [==============================] - 0s 38ms/step - loss: 0.4675 - accuracy: 0.7778\n",
      "Epoch 46/50\n",
      "6/6 [==============================] - 0s 37ms/step - loss: 0.4554 - accuracy: 0.8210\n",
      "Epoch 47/50\n",
      "6/6 [==============================] - 0s 38ms/step - loss: 0.4688 - accuracy: 0.8148\n",
      "Epoch 48/50\n",
      "6/6 [==============================] - 0s 32ms/step - loss: 0.4487 - accuracy: 0.8395\n",
      "Epoch 49/50\n",
      "6/6 [==============================] - 0s 38ms/step - loss: 0.4321 - accuracy: 0.8457\n",
      "Epoch 50/50\n",
      "6/6 [==============================] - 0s 37ms/step - loss: 0.4245 - accuracy: 0.8765\n",
      "2/2 [==============================] - 1s 88ms/step\n"
     ]
    }
   ],
   "source": [
    "# Fit model\n",
    "model.fit(X_train, y_train, epochs=50)\n",
    "\n",
    "# Predictions\n",
    "y_pred = model.predict(X_test)\n",
    "y_pred_class = np.argmax(y_pred, axis=1)\n",
    "y_test_class = np.argmax(y_test, axis=1)"
   ]
  },
  {
   "cell_type": "markdown",
   "metadata": {},
   "source": [
    "### Show results"
   ]
  },
  {
   "cell_type": "code",
   "execution_count": 8,
   "metadata": {},
   "outputs": [
    {
     "name": "stdout",
     "output_type": "stream",
     "text": [
      "y_pred_class: [2 2 1 2 2 2 2 1 0 2 1 2 2 2 2 2 2 2 0 0 2 2 1 2 0 2 2 2 2 2 2 1 2 2 0 2 0\n",
      " 1 2 2 1]\n",
      "y_test_class: [0 0 0 0 1 1 0 1 0 2 1 2 2 2 2 0 2 2 1 1 0 2 1 2 1 2 2 2 2 1 2 1 0 1 1 0 1\n",
      " 1 0 2 1]\n"
     ]
    }
   ],
   "source": [
    "# print results\n",
    "print(\"y_pred_class:\", y_pred_class)\n",
    "print(\"y_test_class:\", y_test_class)"
   ]
  },
  {
   "cell_type": "code",
   "execution_count": 9,
   "metadata": {},
   "outputs": [
    {
     "name": "stdout",
     "output_type": "stream",
     "text": [
      "F1 Score: 0.48636712458406767\n"
     ]
    }
   ],
   "source": [
    "# Calculate and display F1 Score\n",
    "f1 = metrics.f1_score(y_test_class, y_pred_class, average='weighted', zero_division=0)\n",
    "print(\"F1 Score:\", f1)"
   ]
  },
  {
   "cell_type": "code",
   "execution_count": 10,
   "metadata": {},
   "outputs": [
    {
     "name": "stdout",
     "output_type": "stream",
     "text": [
      "              precision    recall  f1-score   support\n",
      "\n",
      "           0       0.17      0.09      0.12        11\n",
      "           1       0.86      0.40      0.55        15\n",
      "           2       0.54      1.00      0.70        15\n",
      "\n",
      "    accuracy                           0.54        41\n",
      "   macro avg       0.52      0.50      0.45        41\n",
      "weighted avg       0.55      0.54      0.49        41\n",
      "\n",
      "[[ 1  1  9]\n",
      " [ 5  6  4]\n",
      " [ 0  0 15]]\n"
     ]
    }
   ],
   "source": [
    "\n",
    "# Show the classification report and the confusion matrix\n",
    "print(metrics.classification_report(y_test_class, y_pred_class, zero_division=0))\n",
    "print(metrics.confusion_matrix(y_test_class, y_pred_class))\n"
   ]
  }
 ],
 "metadata": {
  "kernelspec": {
   "display_name": "Python 3",
   "language": "python",
   "name": "python3"
  },
  "language_info": {
   "codemirror_mode": {
    "name": "ipython",
    "version": 3
   },
   "file_extension": ".py",
   "mimetype": "text/x-python",
   "name": "python",
   "nbconvert_exporter": "python",
   "pygments_lexer": "ipython3",
   "version": "3.9.18"
  }
 },
 "nbformat": 4,
 "nbformat_minor": 2
}
